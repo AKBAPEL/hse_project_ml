{
  "nbformat": 4,
  "nbformat_minor": 0,
  "metadata": {
    "colab": {
      "provenance": []
    },
    "kernelspec": {
      "name": "python3",
      "display_name": "Python 3"
    },
    "language_info": {
      "name": "python"
    }
  },
  "cells": [
    {
      "cell_type": "code",
      "execution_count": null,
      "metadata": {
        "id": "bHyZ8edEQFZP"
      },
      "outputs": [],
      "source": [
        "import pandas as pd\n",
        "from sklearn.model_selection import train_test_split, GridSearchCV\n",
        "from sklearn.preprocessing import LabelEncoder\n",
        "from catboost import CatBoostClassifier\n",
        "from sklearn.metrics import accuracy_score, classification_report\n",
        "\n",
        "# Загрузка данных\n",
        "data = pd.read_excel('Features.xlsx')\n",
        "data['mood'] = data['mood'].replace('angry', 'sad')\n",
        "\n",
        "# Предварительная обработка данных\n",
        "le_mood = LabelEncoder()\n",
        "data['mood'] = le_mood.fit_transform(data['mood'])\n",
        "\n",
        "X = data.drop(['file', 'mood', 'key', 'scale'], axis=1)\n",
        "y = data['mood']\n",
        "\n",
        "# Разделение данных на обучающую и тестовую выборки\n",
        "X_train, X_test, y_train, y_test = train_test_split(X, y, test_size=0.2, random_state=42)\n",
        "\n",
        "# Определение гиперпараметров для поиска\n",
        "param_grid = {\n",
        "    'iterations': [500, 1000, 2000],\n",
        "    'learning_rate': [0.001, 0.01, 0.05, 0.1],\n",
        "    'depth': [4, 6, 8, 10],\n",
        "    'l2_leaf_reg': [1, 3, 5, 7],\n",
        "}\n",
        "\n",
        "# Создание модели\n",
        "model = CatBoostClassifier(verbose=0)\n",
        "grid_search = GridSearchCV(estimator=model, param_grid=param_grid, cv=5, scoring='accuracy', n_jobs=-1)\n",
        "grid_search.fit(X_train, y_train)\n",
        "\n",
        "# Выбираем лучшую модель и её параметры\n",
        "best_model = grid_search.best_estimator_\n",
        "best_params = grid_search.best_params_\n",
        "\n",
        "print(\"Лучшие параметры:\", best_params)\n",
        "\n",
        "# Оценка точности\n",
        "y_pred = best_model.predict(X_test)\n",
        "\n",
        "print(\"Accuracy:\", accuracy_score(y_test, y_pred))\n",
        "print(\"Classification Report:\")\n",
        "print(classification_report(y_test, y_pred, target_names=le_mood.classes_))\n",
        "\n",
        "import joblib\n",
        "\n",
        "joblib.dump(best_model, 'music_classifier.pkl')\n",
        "joblib.dump(le_mood, 'le_mood.pkl')\n",
        "\n"
      ]
    }
  ]
}